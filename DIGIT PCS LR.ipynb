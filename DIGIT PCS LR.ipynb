{
 "cells": [
  {
   "cell_type": "code",
   "execution_count": 1,
   "id": "74f349c5",
   "metadata": {},
   "outputs": [],
   "source": [
    "import pandas as pd\n",
    "import math\n",
    "import seaborn as sns\n",
    "import numpy as np\n",
    "import random\n",
    "from sklearn.model_selection import train_test_split\n",
    "from sklearn.linear_model import LogisticRegression\n",
    "from sklearn.metrics import classification_report\n",
    "from sklearn.metrics import confusion_matrix\n",
    "from sklearn.metrics import mean_absolute_error\n",
    "import matplotlib.pyplot as plt\n",
    "import random"
   ]
  },
  {
   "cell_type": "code",
   "execution_count": 2,
   "id": "17c75b0c",
   "metadata": {},
   "outputs": [],
   "source": [
    "data=pd.read_csv('train.csv')\n",
    "X=data.drop('label',axis=1)\n",
    "X=X/255\n",
    "y=data.label\n",
    "X_train, X_test, y_train, y_test = train_test_split(X, y, test_size=0.25, random_state=0)"
   ]
  },
  {
   "cell_type": "code",
   "execution_count": 3,
   "id": "f429ebd5",
   "metadata": {},
   "outputs": [
    {
     "name": "stdout",
     "output_type": "stream",
     "text": [
      "Done 1 of split-1\n",
      "Done Split-1\n",
      "Done 1 of split-3\n",
      "Done 2 of split-3\n",
      "Done 3 of split-3\n",
      "Done Split-3\n",
      "Done 1 of split-5\n",
      "Done 2 of split-5\n",
      "Done 3 of split-5\n",
      "Done 4 of split-5\n",
      "Done 5 of split-5\n",
      "Done Split-5\n",
      "Done 1 of split-7\n",
      "Done 2 of split-7\n",
      "Done 3 of split-7\n",
      "Done 4 of split-7\n",
      "Done 5 of split-7\n",
      "Done 6 of split-7\n",
      "Done 7 of split-7\n",
      "Done Split-7\n"
     ]
    }
   ],
   "source": [
    "split=[1,3,5,7]\n",
    "lrs=[]\n",
    "m=[]\n",
    "for i in split:\n",
    "    j=0\n",
    "    lit=list(range(0, X_train.shape[0],int(X_train.shape[0]/i)))\n",
    "    lit=lit+[X_train.shape[0]]\n",
    "    ytotal=pd.DataFrame(data.label[0:X_test.shape[0]])\n",
    "    while j<i:\n",
    "        lr=LogisticRegression(random_state=0,max_iter=10000)\n",
    "        lr.fit(X_train[lit[j]:lit[j+1]],y_train[lit[j]:lit[j+1]])\n",
    "        yt=lr.predict(X_test)\n",
    "        ytotal['j']=yt\n",
    "        print('Done '+ str(j+1) + ' of split-'+str(i) )\n",
    "        lrs=lrs+[lr.score(X_test,y_test)]\n",
    "        j=j+1\n",
    "    ytotal=ytotal.drop('label',axis=1)   \n",
    "    ymode=ytotal.mode(axis=1)\n",
    "    yp=ymode.iloc[:,0]\n",
    "    m=m+[confusion_matrix(y_test,yp).trace()/(X_test.shape[0])]\n",
    "    print('Done Split-'+str(i))"
   ]
  },
  {
   "cell_type": "code",
   "execution_count": 4,
   "id": "961319c7",
   "metadata": {},
   "outputs": [
    {
     "data": {
      "image/png": "[encoded data removed]",
      "text/plain": [
       "<Figure size 432x288 with 1 Axes>"
      ]
     },
     "metadata": {
      "needs_background": "light"
     },
     "output_type": "display_data"
    }
   ],
   "source": [
    "plt.plot(split,m)\n",
    "plt.xlabel('Split')\n",
    "plt.ylabel('Accuracy')\n",
    "m1=m"
   ]
  },
  {
   "cell_type": "code",
   "execution_count": 5,
   "id": "0d98da6b",
   "metadata": {},
   "outputs": [],
   "source": [
    "def redu(x):\n",
    "    m=x.shape[0]\n",
    "    sig=np.dot(x.T,x)/m\n",
    "    u,s,vh=np.linalg.svd(sig,full_matrices=True)\n",
    "    i=0\n",
    "    ts=sum(s)\n",
    "    while i<len(s):\n",
    "        sr= sum(s[0:i+1])*100/ts\n",
    "        if sr>99:\n",
    "            return u[:,0:i+1]\n",
    "        i=i+1\n",
    "    return u"
   ]
  },
  {
   "cell_type": "code",
   "execution_count": 6,
   "id": "5aedfe31",
   "metadata": {},
   "outputs": [
    {
     "name": "stdout",
     "output_type": "stream",
     "text": [
      "Done 1 of split-3\n",
      "Done 2 of split-3\n",
      "Done 3 of split-3\n",
      "Done Split-3\n",
      "Done 1 of split-5\n",
      "Done 2 of split-5\n",
      "Done 3 of split-5\n",
      "Done 4 of split-5\n",
      "Done 5 of split-5\n",
      "Done Split-5\n",
      "Done 1 of split-7\n",
      "Done 2 of split-7\n",
      "Done 3 of split-7\n",
      "Done 4 of split-7\n",
      "Done 5 of split-7\n",
      "Done 6 of split-7\n",
      "Done 7 of split-7\n",
      "Done Split-7\n"
     ]
    }
   ],
   "source": [
    "split=[3,5,7]\n",
    "lrs=[]\n",
    "m=[]\n",
    "for i in split:\n",
    "    j=0\n",
    "    lit=list(range(0, X_train.shape[0],int(X_train.shape[0]/i)))\n",
    "    lit=lit+[X_train.shape[0]]\n",
    "    ytotal=pd.DataFrame(data.label[0:X_test.shape[0]])\n",
    "    while j<i:\n",
    "        lr=LogisticRegression(random_state=0,max_iter=10000)\n",
    "        ur=redu(X_train[lit[j]:lit[j+1]])\n",
    "        zt=np.dot(X_train[lit[j]:lit[j+1]],ur)\n",
    "        lr.fit(zt,y_train[lit[j]:lit[j+1]])\n",
    "        xt=np.dot(X_test,ur)\n",
    "        yt=lr.predict(xt)\n",
    "        ytotal['j']=yt\n",
    "        print('Done '+ str(j+1) + ' of split-'+str(i) )\n",
    "        lrs=lrs+[lr.score(xt,y_test)]\n",
    "        j=j+1\n",
    "    ytotal=ytotal.drop('label',axis=1)   \n",
    "    ymode=ytotal.mode(axis=1)\n",
    "    yp=ymode.iloc[:,0]\n",
    "    m=m+[confusion_matrix(y_test,yp).trace()/(X_test.shape[0])]\n",
    "    print('Done Split-'+str(i))"
   ]
  },
  {
   "cell_type": "code",
   "execution_count": 7,
   "id": "635330d4",
   "metadata": {},
   "outputs": [
    {
     "data": {
      "text/plain": [
       "Text(0, 0.5, 'Accuracy')"
      ]
     },
     "execution_count": 7,
     "metadata": {},
     "output_type": "execute_result"
    },
    {
     "data": {
      "image/png": "[encoded data removed]",
      "text/plain": [
       "<Figure size 432x288 with 1 Axes>"
      ]
     },
     "metadata": {
      "needs_background": "light"
     },
     "output_type": "display_data"
    }
   ],
   "source": [
    "plt.plot(split,m)\n",
    "plt.xlabel('Split')\n",
    "plt.ylabel('Accuracy')"
   ]
  },
  {
   "cell_type": "code",
   "execution_count": 8,
   "id": "9c4d8b99",
   "metadata": {},
   "outputs": [
    {
     "data": {
      "text/plain": [
       "Text(0, 0.5, 'Accuracy')"
      ]
     },
     "execution_count": 8,
     "metadata": {},
     "output_type": "execute_result"
    },
    {
     "data": {
      "image/png": "[encoded data removed]",
      "text/plain": [
       "<Figure size 360x360 with 1 Axes>"
      ]
     },
     "metadata": {
      "needs_background": "light"
     },
     "output_type": "display_data"
    }
   ],
   "source": [
    "plt.figure(figsize = (5,5))\n",
    "plt.plot(split,m)\n",
    "plt.plot(split,m1[1:])\n",
    "plt.legend([\"PCA\", \"~PCA\"], loc =\"upper right\")\n",
    "plt.xlabel('Split')\n",
    "plt.ylabel('Accuracy')"
   ]
  },
  {
   "cell_type": "code",
   "execution_count": 9,
   "id": "63935c5b",
   "metadata": {},
   "outputs": [
    {
     "data": {
      "text/plain": [
       "0.9182857142857143"
      ]
     },
     "execution_count": 9,
     "metadata": {},
     "output_type": "execute_result"
    }
   ],
   "source": [
    "xn=X_train.iloc[0:24000,:]\n",
    "z1=redu(xn)\n",
    "z=np.dot(xn,z1)\n",
    "lr=LogisticRegression(random_state=0,max_iter=10000)\n",
    "lr.fit(z,y_train[0:24000])\n",
    "yp=lr.predict(np.dot(X_test,z1))\n",
    "confusion_matrix(y_test,yp).trace()/(X_test.shape[0])"
   ]
  },
  {
   "cell_type": "code",
   "execution_count": null,
   "id": "fd312425",
   "metadata": {},
   "outputs": [],
   "source": []
  }
 ],
 "metadata": {
  "kernelspec": {
   "display_name": "Python 3",
   "language": "python",
   "name": "python3"
  },
  "language_info": {
   "codemirror_mode": {
    "name": "ipython",
    "version": 3
   },
   "file_extension": ".py",
   "mimetype": "text/x-python",
   "name": "python",
   "nbconvert_exporter": "python",
   "pygments_lexer": "ipython3",
   "version": "3.8.8"
  }
 },
 "nbformat": 4,
 "nbformat_minor": 5
}
